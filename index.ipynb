{
 "cells": [
  {
   "cell_type": "markdown",
   "metadata": {},
   "source": [
    "# 경기 상황 인식 방법\n",
    "\n",
    "## 큰 돈의 움직임\n",
    "\n",
    "  * 경기가 좋을 때 큰 돈이 주식에 몰린다\n",
    "  * 과열될 때 큰 돈이 빠져나온다\n",
    "  * 안전자산 시장(채권)으로 간다\n",
    "  * 큰 돈 : 외국인, 국내 기관\n",
    "    \n",
    "## 금리 신호\n",
    "\n",
    "  * 단기 금리가 오르고 있는가?\n",
    "    * 콜금리, CP금리(91일물), CD금리(91일물)\n",
    "  * 장기 금리가 오르고 있나?\n",
    "    * 통안채(1년), 회사채(3년), 국고채(3년)\n",
    "\n",
    "## 신용 상태\n",
    "\n",
    "  * 은행 - 은행 (1~2일 단위) : 콜금리\n",
    "  * 기업 : CP금리\n",
    "  * 은행 : CD금리\n",
    "  * 한국은행 : 통안채 금리 (한국은행이 통화안정을 위해 발행하는 채권)\n",
    "  * 한국 정부 : 국고채 금리\n",
    "\n",
    "### 주요 지표\n",
    "\n",
    "  * **장단기 금리 스프레드(Risk premium on lending (lending rate minus treasury bill rate, %))**\n",
    "    * 평상시 : 장기금리 > 단기금리\n",
    "    * 위기시 : 장기금리 < 단기금리(급전을 구한다.)\n",
    "      * 크냐 작냐보다 스프레드의 '양'이 중요.\n",
    "    * 한국지표 : **CD금리(91일물) - 국고채3년**\n",
    "    * 미국지표 : Yield Curve\n",
    "      * http://www.bloomberg.com/markets/rates-bonds/government-bonds/us\n",
    "  * 국채와 회사채 스프레드(=신용 스프레드)\n",
    "    * 경기가 좋을 때 : 회사채 금리가 낮아진다 -> 스프레드가 낮아진다\n",
    "    * 경기가 안좋을 때 : 회사채 금리가 높아진다 -> 스프레드가 커진다\n",
    "  * 신용이 좋은 회사와 안좋은 회사 스프레드\n",
    "    * 경기가 좋을 때 : 스프레드가 작아진다(안좋은 회사 금리가 낮아짐)\n",
    "    * 경기가 나쁠 때 : 스프레드가 커진다(안좋은 회사 금리가 높아짐)\n",
    "\n",
    "## 채권\n",
    "\n",
    "  * [금융투자협회 종합통계 포탈](http://freesis.kofia.or.kr/)\n",
    "  * [금융투자협회 채권정보센터](http://www.kofiabond.or.kr/)\n",
    "  * [금융통계정보시스템](http://fisis.fss.or.kr/fss/fsi/id/fssmain.jsp)\n",
    "  * http://www.bloomberg.com/markets/rates-bonds/government-bonds/us\n",
    "\n",
    "### 채권 거래량\n",
    "\n",
    "  * 거래량 총합(국채, 지방채, 특수채, 통안증권, 은행채, 기타금융채, 회사채, ABS)\n",
    "\n",
    "### 금리(수익률)\n",
    "\n",
    "  * 국고채권(3년)\n",
    "  * 국고채권(5년)\n",
    "  * 국고채권(10년)\n",
    "  * 회사채(무보증3년)AA-\n",
    "  * 회사채(무보증3년)BBB-\n",
    "  * CP(91일)\n",
    "\n",
    "## KOSPI\n",
    "\n",
    "  * KOSPI\n",
    "  * KOSPI100"
   ]
  },
  {
   "cell_type": "code",
   "execution_count": null,
   "metadata": {
    "collapsed": true
   },
   "outputs": [],
   "source": []
  }
 ],
 "metadata": {
  "kernelspec": {
   "display_name": "Python 2",
   "language": "python",
   "name": "python2"
  },
  "language_info": {
   "codemirror_mode": {
    "name": "ipython",
    "version": 2
   },
   "file_extension": ".py",
   "mimetype": "text/x-python",
   "name": "python",
   "nbconvert_exporter": "python",
   "pygments_lexer": "ipython2",
   "version": "2.7.12"
  }
 },
 "nbformat": 4,
 "nbformat_minor": 0
}
